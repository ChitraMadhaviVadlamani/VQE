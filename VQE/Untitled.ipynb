{
 "cells": [
  {
   "cell_type": "code",
   "execution_count": 6,
   "id": "117fbf39",
   "metadata": {},
   "outputs": [
    {
     "name": "stdout",
     "output_type": "stream",
     "text": [
      " HERE1\n",
      "distance\n",
      " [[ 0. 19. 20.]\n",
      " [19.  0. 37.]\n",
      " [20. 37.  0.]]\n",
      "[(78.52531140389178, 78.58593575262115), (96.91360175228525, 74.80597729095652), (65.55508092911096, 93.88845441671913)] @@  ['r', 'r', 'r']\n",
      "{(0, 1): 19.0, (0, 2): 20.0, (1, 2): 37.0} $$$\n",
      "{(0, 1): Text(87.71945657808851, 76.69595652178884, '19.0'), (0, 2): Text(72.04019616650137, 86.23719508467013, '20.0'), (1, 2): Text(81.23434134069811, 84.34721585383782, '37.0')} TTTTT\n",
      "order = (0, 1, 2) Distance = 76.0\n",
      "Best order from brute force = (0, 1, 2) with total distance = 76.0\n"
     ]
    },
    {
     "data": {
      "image/png": "[encoded data removed]",
      "text/plain": [
       "<Figure size 432x288 with 2 Axes>"
      ]
     },
     "metadata": {},
     "output_type": "display_data"
    }
   ],
   "source": [
    "# useful additional packages\n",
    "import matplotlib.pyplot as plt\n",
    "import matplotlib.axes as axes\n",
    "import numpy as np\n",
    "import networkx as nx\n",
    "\n",
    "from qiskit import Aer\n",
    "from qiskit.tools.visualization import plot_histogram\n",
    "from qiskit.circuit.library import TwoLocal\n",
    "from qiskit_optimization.applications import Maxcut, Tsp\n",
    "from qiskit.algorithms import VQE, NumPyMinimumEigensolver\n",
    "from qiskit.algorithms.optimizers import SPSA\n",
    "from qiskit.utils import algorithm_globals, QuantumInstance\n",
    "from qiskit_optimization.algorithms import MinimumEigenOptimizer\n",
    "from qiskit_optimization.problems import QuadraticProgram\n",
    "#################################################2\n",
    "def draw_graph(G, colors, pos):\n",
    "    default_axes = plt.axes(frameon=True) #Whether the Axes frame is visible.\n",
    "    nx.draw_networkx(G, node_color=colors, node_size=600, alpha=0.8, ax=default_axes, pos=pos) #draws graph\n",
    "   \n",
    "    edge_labels = nx.get_edge_attributes(G, \"weight\")\n",
    "    print(edge_labels,\"$$$\")\n",
    "    nx.draw_networkx_edge_labels(G, pos=pos, edge_labels=edge_labels) #adds edges\n",
    "    print(nx.draw_networkx_edge_labels(G, pos=pos, edge_labels=edge_labels),\"TTTTT\")\n",
    "    #Edge labels in a dictionary keyed by edge two-tuple of text labels (default=None). Only labels for the keys in the dictionary are drawn.\n",
    "###########################1\n",
    "n = 3\n",
    "tsp = Tsp.create_random_instance(n, seed=124) #Seed helps determine weight of edges between nodes\n",
    "print(tsp.graph,\"HERE1\")\n",
    "adj_matrix = nx.to_numpy_matrix(tsp.graph)\n",
    "print(\"distance\\n\", adj_matrix)\n",
    "\n",
    "colors = [\"r\" for node in tsp.graph.nodes] #color of nodes\n",
    "pos = [tsp.graph.nodes[node][\"pos\"] for node in tsp.graph.nodes] #A dictionary with nodes as keys and positions as values. Positions should be sequences of length 2.\n",
    "print(pos,\"@@ \",colors)\n",
    "draw_graph(tsp.graph, colors, pos)\n",
    "#####################################4\n",
    "\n",
    "\n",
    "from itertools import permutations\n",
    "\n",
    "\n",
    "def brute_force_tsp(w, N):\n",
    "    a = list(permutations(range(1, N)))\n",
    "    last_best_distance = 1e10\n",
    "    for i in a:\n",
    "        distance = 0\n",
    "        pre_j = 0\n",
    "        for j in i:\n",
    "            distance = distance + w[j, pre_j]\n",
    "            pre_j = j\n",
    "        distance = distance + w[pre_j, 0]\n",
    "        order = (0,) + i\n",
    "        if distance < last_best_distance:\n",
    "            best_order = order\n",
    "            last_best_distance = distance\n",
    "            print(\"order = \" + str(order) + \" Distance = \" + str(distance))\n",
    "    return last_best_distance, best_order\n",
    "############3\n",
    "\n",
    "best_distance, best_order = brute_force_tsp(adj_matrix, n)\n",
    "print(\n",
    "    \"Best order from brute force = \"\n",
    "    + str(best_order)\n",
    "    + \" with total distance = \"\n",
    "    + str(best_distance)\n",
    ")\n",
    "###################5\n",
    "\n",
    "def draw_tsp_solution(G, order, colors, pos):\n",
    "    G2 = nx.DiGraph()\n",
    "    G2.add_nodes_from(G)\n",
    "    n = len(order)\n",
    "    for i in range(n):\n",
    "        j = (i + 1) % n\n",
    "        G2.add_edge(order[i], order[j], weight=G[order[i]][order[j]][\"weight\"])\n",
    "    default_axes = plt.axes(frameon=True)\n",
    "    nx.draw_networkx(\n",
    "        G2, node_color=colors, edge_color=\"b\", node_size=600, alpha=0.8, ax=default_axes, pos=pos\n",
    "    )\n",
    "    edge_labels = nx.get_edge_attributes(G2, \"weight\")\n",
    "    nx.draw_networkx_edge_labels(G2, pos, font_color=\"b\", edge_labels=edge_labels)\n",
    "\n",
    "\n",
    "draw_tsp_solution(tsp.graph, best_order, colors, pos)\n",
    "\n",
    "#########################\n"
   ]
  },
  {
   "cell_type": "code",
   "execution_count": null,
   "id": "64a48a9f",
   "metadata": {},
   "outputs": [],
   "source": []
  },
  {
   "cell_type": "code",
   "execution_count": null,
   "id": "3120ef60",
   "metadata": {},
   "outputs": [],
   "source": []
  }
 ],
 "metadata": {
  "kernelspec": {
   "display_name": "Python 3",
   "language": "python",
   "name": "python3"
  },
  "language_info": {
   "codemirror_mode": {
    "name": "ipython",
    "version": 3
   },
   "file_extension": ".py",
   "mimetype": "text/x-python",
   "name": "python",
   "nbconvert_exporter": "python",
   "pygments_lexer": "ipython3",
   "version": "3.9.5"
  }
 },
 "nbformat": 4,
 "nbformat_minor": 5
}
